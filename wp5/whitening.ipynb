{
 "cells": [
  {
   "cell_type": "code",
   "execution_count": 1,
   "id": "f19b6851-4a7c-440b-938f-d841722b7b43",
   "metadata": {},
   "outputs": [],
   "source": [
    "from gwpy.timeseries import TimeSeries\n",
    "import numpy as np\n",
    "import matplotlib.pyplot as plt\n",
    "\n",
    "from pycbc import psd\n",
    "from pycbc.filter import highpass"
   ]
  },
  {
   "cell_type": "code",
   "execution_count": 2,
   "id": "26e66468-f9a8-4932-a4bc-692c2e640bc6",
   "metadata": {},
   "outputs": [],
   "source": [
    "def Whitening_strain(eval_psd, data):\n",
    "        \"\"\"\n",
    "            PyCBC whitening. In this function we follow the procedure of \n",
    "            Tutorial 3.\n",
    "        Input\n",
    "        -----\n",
    "        eval_psd: (pyCBC TimeSeries) data to compute PSD\n",
    "        data: (pyCBC TimeSeries) data to whiten\n",
    "        \n",
    "        Output\n",
    "        ------\n",
    "        data_whitened: (pyCBC TimeSeries) whitened data\n",
    "        \"\"\"\n",
    "\n",
    "        # We'll choose 4 seconds PSD samples that are overlapped 50 %\n",
    "        seg_len = int(4 / eval_psd.delta_t)\n",
    "        seg_stride = int(seg_len / 2)\n",
    "        \n",
    "        # We estimate the PSD with Welch's method\n",
    "        PSD = psd.welch(eval_psd,\n",
    "                    seg_len=seg_len,\n",
    "                    seg_stride=seg_stride)\n",
    "        # Interpolate PSD to adjust to data duration\n",
    "        PSD = psd.interpolate(PSD, 1.0 / data.duration)\n",
    "        PSD = psd.inverse_spectrum_truncation(PSD,\n",
    "                                          int(4 * data.sample_rate),\n",
    "                                          low_frequency_cutoff=30)\n",
    "        # whiten\n",
    "        data_whitened = (data.to_frequencyseries() / PSD ** 0.5)\n",
    "        data_whitened = data_whitened.to_timeseries()\n",
    "\n",
    "        return data_whitened\n"
   ]
  },
  {
   "cell_type": "code",
   "execution_count": 3,
   "id": "bf2d9715-5659-4def-a2c6-449e482cfc1e",
   "metadata": {},
   "outputs": [],
   "source": [
    "np.random.seed(1)\n",
    "clean_segments = np.load('/home/robin.vanderlaag/wp5/strain_fractals/condor_data/clean_segments_O3A.npy')\n",
    "msk = np.where((clean_segments[:,1]-clean_segments[:,0] >= 2*60))[0] # only segments longer than 2 minutes\n",
    "clean_segments = clean_segments[msk]\n",
    "n = 1 # number of clean times\n",
    "clean_ids = np.random.choice(np.arange(clean_segments.shape[0]), n, replace=False)\n",
    "clean = (clean_segments[clean_ids,0]+clean_segments[clean_ids,1])/2 # take the middle of each segment, should be furthest from any glitch/event"
   ]
  },
  {
   "cell_type": "code",
   "execution_count": 7,
   "id": "f2038d5c-55cc-4d9b-a8fa-16e0a867e346",
   "metadata": {},
   "outputs": [
    {
     "data": {
      "text/plain": [
       "28.0"
      ]
     },
     "execution_count": 7,
     "metadata": {},
     "output_type": "execute_result"
    }
   ],
   "source": [
    "time = clean[0]\n",
    "srate = 16384\n",
    "length = 8\n",
    "scratch = 20\n",
    "duration = (scratch+length)/2\n",
    "flow = 30.0\n",
    "channel = 'L1:DCS-CALIB_STRAIN_C01'\n",
    "\n",
    "eval_data = TimeSeries.get(channel=channel, start=time-duration*2, end=time)\n",
    "data = TimeSeries.get(channel=channel, start=time-duration, end=time+duration)\n",
    "data.shape[0]/srate"
   ]
  },
  {
   "cell_type": "code",
   "execution_count": null,
   "id": "961c3081-ff78-485c-a35e-926e7bd7841b",
   "metadata": {},
   "outputs": [],
   "source": [
    "plt.plot(eval_data, label='evaluate PSD')\n",
    "plt.plot(data, label='data to whiten')\n",
    "plt.xlabel('GPS time'), plt.ylabel('Amplitude')\n",
    "plt.legend()\n",
    "data.shape, eval_data.shape"
   ]
  },
  {
   "cell_type": "code",
   "execution_count": null,
   "id": "26b524bd-9b87-4176-9f9f-7a91f8518f90",
   "metadata": {},
   "outputs": [],
   "source": [
    "data, eval_data = data.to_pycbc(), eval_data.to_pycbc()\n",
    "data, eval_data = highpass(data, flow), highpass(eval_data, flow)"
   ]
  },
  {
   "cell_type": "code",
   "execution_count": null,
   "id": "f880003d-62ff-43af-aa27-9dea69ba8d9e",
   "metadata": {},
   "outputs": [],
   "source": [
    "whiten_data = Whitening_strain(eval_data, data)\n",
    "whiten_data = whiten_data[srate*10:-srate*10]\n",
    "whiten_data.shape[0]/srate"
   ]
  },
  {
   "cell_type": "code",
   "execution_count": null,
   "id": "8786ead9-91fc-498c-a697-723ef23d9a11",
   "metadata": {},
   "outputs": [],
   "source": [
    "plt.plot(whiten_data)\n",
    "plt.xlabel('GPS time'), plt.ylabel('Amplitude')"
   ]
  },
  {
   "cell_type": "code",
   "execution_count": null,
   "id": "c42fb2ff-f984-4b5d-82ef-99671ec02e8e",
   "metadata": {},
   "outputs": [],
   "source": [
    "plt.plot(whiten_data.psd(4))\n",
    "plt.xscale('log'), plt.yscale('log')\n",
    "plt.xlabel('Frequency (Hz)'), plt.ylabel('Amplitude')"
   ]
  },
  {
   "cell_type": "code",
   "execution_count": null,
   "id": "526939cb-532e-4b73-9e4b-f317911eb211",
   "metadata": {},
   "outputs": [],
   "source": []
  }
 ],
 "metadata": {
  "kernelspec": {
   "display_name": "igwn-py39",
   "language": "python",
   "name": "igwn-py39"
  },
  "language_info": {
   "codemirror_mode": {
    "name": "ipython",
    "version": 3
   },
   "file_extension": ".py",
   "mimetype": "text/x-python",
   "name": "python",
   "nbconvert_exporter": "python",
   "pygments_lexer": "ipython3",
   "version": "3.9.13"
  }
 },
 "nbformat": 4,
 "nbformat_minor": 5
}
